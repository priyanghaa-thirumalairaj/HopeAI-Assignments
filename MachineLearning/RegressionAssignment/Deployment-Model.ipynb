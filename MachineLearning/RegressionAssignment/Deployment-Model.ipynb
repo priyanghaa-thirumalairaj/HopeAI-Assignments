{
 "cells": [
  {
   "cell_type": "code",
   "execution_count": 9,
   "id": "f8b9c0c6-a8a7-4d77-b7e6-21a2d18ebd1a",
   "metadata": {},
   "outputs": [],
   "source": [
    "import pickle\n",
    "file_name='finalized_model_RandomForest.sav'\n",
    "loaded=pickle.load(open(file_name,'rb'))"
   ]
  },
  {
   "cell_type": "code",
   "execution_count": 10,
   "id": "0a5141cb-e872-430d-ae2c-8dc3eb3dfa9e",
   "metadata": {},
   "outputs": [
    {
     "name": "stderr",
     "output_type": "stream",
     "text": [
      "/Users/priyanghaa/anaconda3/lib/python3.12/site-packages/sklearn/base.py:493: UserWarning: X does not have valid feature names, but RandomForestRegressor was fitted with feature names\n",
      "  warnings.warn(\n"
     ]
    },
    {
     "data": {
      "text/plain": [
       "array([4283.7735418])"
      ]
     },
     "execution_count": 10,
     "metadata": {},
     "output_type": "execute_result"
    }
   ],
   "source": [
    "result=loaded.predict([[18,33.77,1,True,False]])\n",
    "result"
   ]
  },
  {
   "cell_type": "code",
   "execution_count": null,
   "id": "b08e205b-27a8-4364-92f8-508569dadcf5",
   "metadata": {},
   "outputs": [],
   "source": []
  },
  {
   "cell_type": "code",
   "execution_count": null,
   "id": "f0f72c40-71d1-47f7-8130-bba20ab11c85",
   "metadata": {},
   "outputs": [],
   "source": []
  }
 ],
 "metadata": {
  "kernelspec": {
   "display_name": "Python [conda env:base] *",
   "language": "python",
   "name": "conda-base-py"
  },
  "language_info": {
   "codemirror_mode": {
    "name": "ipython",
    "version": 3
   },
   "file_extension": ".py",
   "mimetype": "text/x-python",
   "name": "python",
   "nbconvert_exporter": "python",
   "pygments_lexer": "ipython3",
   "version": "3.12.7"
  }
 },
 "nbformat": 4,
 "nbformat_minor": 5
}
