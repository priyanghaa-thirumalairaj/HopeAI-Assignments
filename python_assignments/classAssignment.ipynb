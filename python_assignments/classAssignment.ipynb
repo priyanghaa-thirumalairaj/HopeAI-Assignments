{
 "cells": [
  {
   "cell_type": "code",
   "execution_count": 10,
   "id": "a172dd76-74c5-4c8f-8d61-8d3f24045373",
   "metadata": {},
   "outputs": [],
   "source": [
    "from ClassLibraryAssignment import *"
   ]
  },
  {
   "cell_type": "code",
   "execution_count": 2,
   "id": "51e8ce38-65cc-4397-abb2-5d0f67c234d6",
   "metadata": {},
   "outputs": [
    {
     "name": "stdout",
     "output_type": "stream",
     "text": [
      "Subfields in AI are:\n",
      "Machine Learning\n",
      "Neural Networks\n",
      "Vision\n",
      "Robotics\n",
      "Speech Processing\n",
      "Natural Language Processing\n"
     ]
    }
   ],
   "source": [
    "SubFieldsInAI.subFields()"
   ]
  },
  {
   "cell_type": "code",
   "execution_count": 3,
   "id": "8ef71eb3-0cb5-4af8-95d5-24ba53861776",
   "metadata": {},
   "outputs": [
    {
     "name": "stdin",
     "output_type": "stream",
     "text": [
      "Enter a number: 123\n"
     ]
    },
    {
     "name": "stdout",
     "output_type": "stream",
     "text": [
      "123 is Odd Number\n"
     ]
    }
   ],
   "source": [
    "OddEven.oddEven()"
   ]
  },
  {
   "cell_type": "code",
   "execution_count": 11,
   "id": "d6c9756a-8c29-4d35-a850-ee684b5811d6",
   "metadata": {},
   "outputs": [
    {
     "name": "stdin",
     "output_type": "stream",
     "text": [
      "Enter your gender Male\n",
      "Enter your age 12\n"
     ]
    },
    {
     "name": "stdout",
     "output_type": "stream",
     "text": [
      "Your Gender: Male\n",
      "Your Age: 12\n"
     ]
    },
    {
     "ename": "NameError",
     "evalue": "name 'eligibleForMarriage' is not defined",
     "output_type": "error",
     "traceback": [
      "\u001b[0;31m---------------------------------------------------------------------------\u001b[0m",
      "\u001b[0;31mNameError\u001b[0m                                 Traceback (most recent call last)",
      "Cell \u001b[0;32mIn[11], line 1\u001b[0m\n\u001b[0;32m----> 1\u001b[0m EligibilityForMarriage\u001b[38;5;241m.\u001b[39meligible()\n",
      "File \u001b[0;32m~/Documents/Hope/AICourse/ClassLibraryAssignment.py:24\u001b[0m, in \u001b[0;36mEligibilityForMarriage.eligible\u001b[0;34m()\u001b[0m\n\u001b[1;32m     22\u001b[0m \u001b[38;5;28mprint\u001b[39m(\u001b[38;5;124m\"\u001b[39m\u001b[38;5;124mYour Gender:\u001b[39m\u001b[38;5;124m\"\u001b[39m,gender)\n\u001b[1;32m     23\u001b[0m \u001b[38;5;28mprint\u001b[39m(\u001b[38;5;124m\"\u001b[39m\u001b[38;5;124mYour Age:\u001b[39m\u001b[38;5;124m\"\u001b[39m,age)\n\u001b[0;32m---> 24\u001b[0m \u001b[38;5;28;01mif\u001b[39;00m(eligibleForMarriage(gender,age)):\n\u001b[1;32m     25\u001b[0m     \u001b[38;5;28mprint\u001b[39m(\u001b[38;5;124m\"\u001b[39m\u001b[38;5;124mELIGIBLE\u001b[39m\u001b[38;5;124m\"\u001b[39m)\n\u001b[1;32m     26\u001b[0m \u001b[38;5;28;01melse\u001b[39;00m:\n",
      "\u001b[0;31mNameError\u001b[0m: name 'eligibleForMarriage' is not defined"
     ]
    }
   ],
   "source": [
    "EligibilityForMarriage.eligible()"
   ]
  },
  {
   "cell_type": "code",
   "execution_count": 9,
   "id": "488b9ec5-f14d-428a-b99b-c5a8d8d2006e",
   "metadata": {},
   "outputs": [
    {
     "name": "stdin",
     "output_type": "stream",
     "text": [
      "Enter the subject marks 23\n",
      "Enter the subject marks 90\n",
      "Enter the subject marks 89\n",
      "Enter the subject marks 12\n",
      "Enter the subject marks 13\n"
     ]
    },
    {
     "ename": "NameError",
     "evalue": "name 'printSubjectMarks' is not defined",
     "output_type": "error",
     "traceback": [
      "\u001b[0;31m---------------------------------------------------------------------------\u001b[0m",
      "\u001b[0;31mNameError\u001b[0m                                 Traceback (most recent call last)",
      "Cell \u001b[0;32mIn[9], line 1\u001b[0m\n\u001b[0;32m----> 1\u001b[0m FindPercent\u001b[38;5;241m.\u001b[39mpercentage()\n",
      "File \u001b[0;32m~/Documents/Hope/AICourse/ClassLibraryAssignment.py:56\u001b[0m, in \u001b[0;36mpercentage\u001b[0;34m()\u001b[0m\n\u001b[1;32m     53\u001b[0m     subjectMarks\u001b[38;5;241m.\u001b[39mappend(sub);\n\u001b[1;32m     55\u001b[0m printSubjectMarks(subjectMarks);\n\u001b[0;32m---> 56\u001b[0m totalObtained\u001b[38;5;241m=\u001b[39mfindTotalObtainedMarks(subjectMarks);\n\u001b[1;32m     57\u001b[0m \u001b[38;5;28mprint\u001b[39m(\u001b[38;5;124m\"\u001b[39m\u001b[38;5;124mTotal=\u001b[39m\u001b[38;5;124m\"\u001b[39m,totalObtained)\n\u001b[1;32m     58\u001b[0m \u001b[38;5;28mprint\u001b[39m(\u001b[38;5;124m\"\u001b[39m\u001b[38;5;124mPercentage=\u001b[39m\u001b[38;5;124m\"\u001b[39m,findTenthPercentage(totalObtained))\n",
      "\u001b[0;31mNameError\u001b[0m: name 'printSubjectMarks' is not defined"
     ]
    }
   ],
   "source": [
    "FindPercent.percentage()"
   ]
  },
  {
   "cell_type": "code",
   "execution_count": 12,
   "id": "77992553-fae1-4aef-8d76-99e454449688",
   "metadata": {},
   "outputs": [
    {
     "name": "stdin",
     "output_type": "stream",
     "text": [
      "Enter your gender Male\n",
      "Enter your age 12\n"
     ]
    },
    {
     "name": "stdout",
     "output_type": "stream",
     "text": [
      "Your Gender: Male\n",
      "Your Age: 12\n"
     ]
    },
    {
     "ename": "NameError",
     "evalue": "name 'eligibleForMarriage' is not defined",
     "output_type": "error",
     "traceback": [
      "\u001b[0;31m---------------------------------------------------------------------------\u001b[0m",
      "\u001b[0;31mNameError\u001b[0m                                 Traceback (most recent call last)",
      "Cell \u001b[0;32mIn[12], line 1\u001b[0m\n\u001b[0;32m----> 1\u001b[0m EligibilityForMarriage\u001b[38;5;241m.\u001b[39meligible()\n",
      "File \u001b[0;32m~/Documents/Hope/AICourse/ClassLibraryAssignment.py:24\u001b[0m, in \u001b[0;36mEligibilityForMarriage.eligible\u001b[0;34m()\u001b[0m\n\u001b[1;32m     22\u001b[0m \u001b[38;5;28mprint\u001b[39m(\u001b[38;5;124m\"\u001b[39m\u001b[38;5;124mYour Gender:\u001b[39m\u001b[38;5;124m\"\u001b[39m,gender)\n\u001b[1;32m     23\u001b[0m \u001b[38;5;28mprint\u001b[39m(\u001b[38;5;124m\"\u001b[39m\u001b[38;5;124mYour Age:\u001b[39m\u001b[38;5;124m\"\u001b[39m,age)\n\u001b[0;32m---> 24\u001b[0m \u001b[38;5;28;01mif\u001b[39;00m(eligibleForMarriage(gender,age)):\n\u001b[1;32m     25\u001b[0m     \u001b[38;5;28mprint\u001b[39m(\u001b[38;5;124m\"\u001b[39m\u001b[38;5;124mELIGIBLE\u001b[39m\u001b[38;5;124m\"\u001b[39m)\n\u001b[1;32m     26\u001b[0m \u001b[38;5;28;01melse\u001b[39;00m:\n",
      "\u001b[0;31mNameError\u001b[0m: name 'eligibleForMarriage' is not defined"
     ]
    }
   ],
   "source": [
    "EligibilityForMarriage.eligible()"
   ]
  },
  {
   "cell_type": "code",
   "execution_count": 13,
   "id": "7c65b6c3-52be-4531-a306-18517c5ec5a4",
   "metadata": {},
   "outputs": [
    {
     "name": "stdin",
     "output_type": "stream",
     "text": [
      "Enter your gender Male\n",
      "Enter your age 23\n"
     ]
    },
    {
     "name": "stdout",
     "output_type": "stream",
     "text": [
      "Your Gender: Male\n",
      "Your Age: 23\n"
     ]
    },
    {
     "ename": "NameError",
     "evalue": "name 'eligibleForMarriage' is not defined",
     "output_type": "error",
     "traceback": [
      "\u001b[0;31m---------------------------------------------------------------------------\u001b[0m",
      "\u001b[0;31mNameError\u001b[0m                                 Traceback (most recent call last)",
      "Cell \u001b[0;32mIn[13], line 1\u001b[0m\n\u001b[0;32m----> 1\u001b[0m EligibilityForMarriage\u001b[38;5;241m.\u001b[39meligible()\n",
      "File \u001b[0;32m~/Documents/Hope/AICourse/ClassLibraryAssignment.py:24\u001b[0m, in \u001b[0;36mEligibilityForMarriage.eligible\u001b[0;34m()\u001b[0m\n\u001b[1;32m     22\u001b[0m \u001b[38;5;28mprint\u001b[39m(\u001b[38;5;124m\"\u001b[39m\u001b[38;5;124mYour Gender:\u001b[39m\u001b[38;5;124m\"\u001b[39m,gender)\n\u001b[1;32m     23\u001b[0m \u001b[38;5;28mprint\u001b[39m(\u001b[38;5;124m\"\u001b[39m\u001b[38;5;124mYour Age:\u001b[39m\u001b[38;5;124m\"\u001b[39m,age)\n\u001b[0;32m---> 24\u001b[0m \u001b[38;5;28;01mif\u001b[39;00m(eligibleForMarriage(gender,age)):\n\u001b[1;32m     25\u001b[0m     \u001b[38;5;28mprint\u001b[39m(\u001b[38;5;124m\"\u001b[39m\u001b[38;5;124mELIGIBLE\u001b[39m\u001b[38;5;124m\"\u001b[39m)\n\u001b[1;32m     26\u001b[0m \u001b[38;5;28;01melse\u001b[39;00m:\n",
      "\u001b[0;31mNameError\u001b[0m: name 'eligibleForMarriage' is not defined"
     ]
    }
   ],
   "source": [
    "EligibilityForMarriage.eligible()"
   ]
  },
  {
   "cell_type": "code",
   "execution_count": null,
   "id": "46ebf06d-3412-4e6c-a467-77b05ad576bf",
   "metadata": {},
   "outputs": [],
   "source": []
  }
 ],
 "metadata": {
  "kernelspec": {
   "display_name": "Python [conda env:base] *",
   "language": "python",
   "name": "conda-base-py"
  },
  "language_info": {
   "codemirror_mode": {
    "name": "ipython",
    "version": 3
   },
   "file_extension": ".py",
   "mimetype": "text/x-python",
   "name": "python",
   "nbconvert_exporter": "python",
   "pygments_lexer": "ipython3",
   "version": "3.12.7"
  }
 },
 "nbformat": 4,
 "nbformat_minor": 5
}
