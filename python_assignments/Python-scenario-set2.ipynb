{
 "cells": [
  {
   "cell_type": "code",
   "execution_count": 2,
   "id": "a7b29a8b-cc74-4181-9bf5-c053f4a2d5c0",
   "metadata": {},
   "outputs": [
    {
     "name": "stdin",
     "output_type": "stream",
     "text": [
      "Enter the transaction amount -8\n"
     ]
    },
    {
     "name": "stdout",
     "output_type": "stream",
     "text": [
      "Negative\n"
     ]
    }
   ],
   "source": [
    "#scenario1\n",
    "txn = int(input(\"Enter the transaction amount\"))\n",
    "if(txn > 0):\n",
    "    print(\"Positive\")\n",
    "elif(txn < 0):\n",
    "    print(\"Negative\")\n",
    "else:\n",
    "    print(\"Zero\")"
   ]
  },
  {
   "cell_type": "code",
   "execution_count": 4,
   "id": "7387ea84-2d29-4d81-a8fb-4557f42ffbe4",
   "metadata": {},
   "outputs": [
    {
     "name": "stdin",
     "output_type": "stream",
     "text": [
      "Enter the passcode number 12345\n"
     ]
    },
    {
     "name": "stdout",
     "output_type": "stream",
     "text": [
      "15\n"
     ]
    }
   ],
   "source": [
    "#scenario2\n",
    "pwd=input(\"Enter the passcode number\")\n",
    "numlist=[int(d) for d in pwd]\n",
    "sum=0\n",
    "for i in numlist:\n",
    "    sum+=i\n",
    "print(sum)    "
   ]
  },
  {
   "cell_type": "code",
   "execution_count": 10,
   "id": "e36a8ed4-62f7-41e2-b6a9-d8fe7ec9f89f",
   "metadata": {},
   "outputs": [
    {
     "name": "stdin",
     "output_type": "stream",
     "text": [
      "Enter the passcode number 12345\n"
     ]
    },
    {
     "name": "stdout",
     "output_type": "stream",
     "text": [
      "54321\n"
     ]
    }
   ],
   "source": [
    "#scenario3\n",
    "num = int(input(\"Enter the passcode number\"))\n",
    "numlist=[int(d) for d in str(num)]\n",
    "print(''.join(str(n) for n in numlist[::-1]))"
   ]
  },
  {
   "cell_type": "code",
   "execution_count": 14,
   "id": "9f3ab4a5-68c7-4617-9a50-67331dbfdcad",
   "metadata": {},
   "outputs": [
    {
     "name": "stdout",
     "output_type": "stream",
     "text": [
      "True\n"
     ]
    }
   ],
   "source": [
    "#scenario4\n",
    "\n",
    "def isPrime(num):\n",
    "    if num <=1:\n",
    "        return False\n",
    "    else:\n",
    "        for i in range(2,int(num*0.5)+1):\n",
    "            if(num%i == 0):\n",
    "                return False\n",
    "    return True\n",
    "\n",
    "print(isPrime(5))\n"
   ]
  },
  {
   "cell_type": "code",
   "execution_count": 15,
   "id": "36423113-2491-4f96-b359-1544d57389ad",
   "metadata": {},
   "outputs": [
    {
     "name": "stdout",
     "output_type": "stream",
     "text": [
      "120\n"
     ]
    }
   ],
   "source": [
    "#scenario 5\n",
    "\n",
    "def factorial(num):\n",
    "    if num<=1:\n",
    "        return 1\n",
    "    else:\n",
    "        return num * factorial(num-1)\n",
    "\n",
    "print(factorial(5))"
   ]
  },
  {
   "cell_type": "code",
   "execution_count": 22,
   "id": "63861794-c923-4a9b-a2a2-bf4ee880476f",
   "metadata": {},
   "outputs": [
    {
     "name": "stdout",
     "output_type": "stream",
     "text": [
      "False\n"
     ]
    }
   ],
   "source": [
    "# scenario 6\n",
    "\n",
    "def isArmStrong(num):\n",
    "    numStr=list(str(num))\n",
    "    d = len(numStr)\n",
    "    sum=0;\n",
    "    for i in numStr:\n",
    "        sum += int(i)**d\n",
    "    if(sum == num):\n",
    "         return True\n",
    "    else:\n",
    "        return False\n",
    "\n",
    "print(isArmStrong(123))\n",
    "        "
   ]
  },
  {
   "cell_type": "code",
   "execution_count": 23,
   "id": "16041b42-ee51-4934-8546-2265ba3f49a4",
   "metadata": {},
   "outputs": [
    {
     "name": "stdin",
     "output_type": "stream",
     "text": [
      "Enter the password wqwerty123n\n"
     ]
    },
    {
     "name": "stdout",
     "output_type": "stream",
     "text": [
      "nqwerty123w\n"
     ]
    }
   ],
   "source": [
    "# scenario 7\n",
    "pwd=input(\"Enter the password\")\n",
    "def changePassword(pwd):\n",
    "    newpwd = list(pwd)\n",
    "    temp = newpwd[0]\n",
    "    newpwd[0]=newpwd[len(pwd)-1]\n",
    "    newpwd[len(pwd)-1]=temp\n",
    "    return \"\".join(newpwd)\n",
    "print(changePassword(pwd));    "
   ]
  },
  {
   "cell_type": "code",
   "execution_count": 58,
   "id": "5cfb0423-f633-4481-b162-635b0cf3fba5",
   "metadata": {},
   "outputs": [
    {
     "name": "stdout",
     "output_type": "stream",
     "text": [
      "10111\n"
     ]
    }
   ],
   "source": [
    "# scenario 8\n",
    "\n",
    "def convertToBinary(dec):\n",
    "    result=\"\"\n",
    "    while(dec//2 > 1):\n",
    "         result = result + str(dec%2)\n",
    "         dec = (dec//2)\n",
    "    result+=str(dec%2) + str(dec//2)\n",
    "    return result[::-1]\n",
    "print(convertToBinary(23))       "
   ]
  },
  {
   "cell_type": "code",
   "execution_count": 62,
   "id": "b7841620-a41c-49d9-b3d7-bbcf413de40a",
   "metadata": {},
   "outputs": [
    {
     "name": "stdout",
     "output_type": "stream",
     "text": [
      "Empty list\n",
      "None\n"
     ]
    }
   ],
   "source": [
    "# scenario 9\n",
    "\n",
    "def longestword(sentence):\n",
    "    ls = sentence.split()\n",
    "    try:\n",
    "        longest=ls[0]\n",
    "        for i in ls:\n",
    "            if(len(longest)<len(i)):\n",
    "                longest=i\n",
    "        return longest\n",
    "    except:\n",
    "        print(\"Empty list\")    \n",
    "print(longestword(\"\"))    \n",
    "    "
   ]
  },
  {
   "cell_type": "code",
   "execution_count": 73,
   "id": "5a425de9-3d7a-47f6-bf3e-eedec4019852",
   "metadata": {},
   "outputs": [
    {
     "name": "stdout",
     "output_type": "stream",
     "text": [
      "True\n"
     ]
    }
   ],
   "source": [
    "# scenario 10\n",
    "\n",
    "def isAnagram(str1,str2):\n",
    "    if(sorted(str1.lower()) == sorted(str2.lower())):\n",
    "        return True\n",
    "    else:\n",
    "        return False\n",
    "print(isAnagram('AAA','aaa'))        \n",
    "        "
   ]
  },
  {
   "cell_type": "code",
   "execution_count": null,
   "id": "285f4a23-da8f-4ade-94a5-ce9148f02524",
   "metadata": {},
   "outputs": [],
   "source": []
  }
 ],
 "metadata": {
  "kernelspec": {
   "display_name": "Python [conda env:base] *",
   "language": "python",
   "name": "conda-base-py"
  },
  "language_info": {
   "codemirror_mode": {
    "name": "ipython",
    "version": 3
   },
   "file_extension": ".py",
   "mimetype": "text/x-python",
   "name": "python",
   "nbconvert_exporter": "python",
   "pygments_lexer": "ipython3",
   "version": "3.12.7"
  }
 },
 "nbformat": 4,
 "nbformat_minor": 5
}
