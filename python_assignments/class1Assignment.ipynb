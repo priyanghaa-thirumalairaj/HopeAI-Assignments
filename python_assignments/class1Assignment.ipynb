{
 "cells": [
  {
   "cell_type": "code",
   "execution_count": 1,
   "id": "572b8169-6e62-4d35-8133-0419427362ca",
   "metadata": {},
   "outputs": [],
   "source": [
    "from ClassLibraryAssignment import *"
   ]
  },
  {
   "cell_type": "code",
   "execution_count": 2,
   "id": "f0643337-dff4-4772-b16b-b6fb486892c7",
   "metadata": {},
   "outputs": [
    {
     "name": "stdout",
     "output_type": "stream",
     "text": [
      "Subfields in AI are:\n",
      "Machine Learning\n",
      "Neural Networks\n",
      "Vision\n",
      "Robotics\n",
      "Speech Processing\n",
      "Natural Language Processing\n"
     ]
    }
   ],
   "source": [
    "SubFieldsInAI.subFields()"
   ]
  },
  {
   "cell_type": "code",
   "execution_count": 3,
   "id": "3c2b75aa-290b-43c7-b84e-998fcb17cff7",
   "metadata": {},
   "outputs": [
    {
     "name": "stdin",
     "output_type": "stream",
     "text": [
      "Enter a number: 23\n"
     ]
    },
    {
     "name": "stdout",
     "output_type": "stream",
     "text": [
      "23 is Odd Number\n"
     ]
    }
   ],
   "source": [
    "OddEven.oddEven()"
   ]
  },
  {
   "cell_type": "code",
   "execution_count": 4,
   "id": "d6c213be-2c9b-4c5e-bf27-cae2ad4b0854",
   "metadata": {
    "collapsed": true,
    "jupyter": {
     "outputs_hidden": true
    }
   },
   "outputs": [
    {
     "name": "stdin",
     "output_type": "stream",
     "text": [
      "Enter your gender Male\n",
      "Enter your age 34\n"
     ]
    },
    {
     "name": "stdout",
     "output_type": "stream",
     "text": [
      "Your Gender: Male\n",
      "Your Age: 34\n",
      "ELIGIBLE\n"
     ]
    }
   ],
   "source": [
    "EligibilityForMarriage.eligible()"
   ]
  },
  {
   "cell_type": "code",
   "execution_count": 5,
   "id": "a1c37629-b3ac-4895-8097-5c7fc8dc2220",
   "metadata": {},
   "outputs": [
    {
     "name": "stdin",
     "output_type": "stream",
     "text": [
      "Enter the subject marks 34\n",
      "Enter the subject marks 45\n",
      "Enter the subject marks 56\n",
      "Enter the subject marks 67\n",
      "Enter the subject marks 78\n"
     ]
    },
    {
     "name": "stdout",
     "output_type": "stream",
     "text": [
      "Subject1=34\n",
      "Subject2=45\n",
      "Subject3=56\n",
      "Subject4=67\n",
      "Subject5=78\n",
      "Total= 280\n",
      "Percentage= 56.00000000000001\n"
     ]
    }
   ],
   "source": [
    "FindPercent.percentage()"
   ]
  },
  {
   "cell_type": "code",
   "execution_count": 6,
   "id": "dbd4baac-a8cc-43f0-8e10-30cc04f223ba",
   "metadata": {},
   "outputs": [
    {
     "name": "stdin",
     "output_type": "stream",
     "text": [
      "Enter the height of a triangle 12\n",
      "Enter the base of a triangle 43\n",
      "Enter the height1 of a triangle 5\n",
      "Enter the height2 of a triangle 6\n",
      "Enter the breadth of a triangle 5\n"
     ]
    },
    {
     "name": "stdout",
     "output_type": "stream",
     "text": [
      "Height: 12\n",
      "Breadth 43\n",
      "Area Formula:(Height*Breadth)/2\n",
      "Area of Triangle 258.0\n",
      "Height1: 5\n",
      "Height2: 6\n",
      "Breadth: 5\n",
      "Perimeter Formula:Height1+Height2+Breadth\n",
      "Perimeter of a triangle: 16\n"
     ]
    }
   ],
   "source": [
    "Triangle.triangle()"
   ]
  },
  {
   "cell_type": "code",
   "execution_count": null,
   "id": "49ed1bfd-e4be-423e-8bf5-446d2b647c94",
   "metadata": {},
   "outputs": [],
   "source": []
  }
 ],
 "metadata": {
  "kernelspec": {
   "display_name": "Python [conda env:base] *",
   "language": "python",
   "name": "conda-base-py"
  },
  "language_info": {
   "codemirror_mode": {
    "name": "ipython",
    "version": 3
   },
   "file_extension": ".py",
   "mimetype": "text/x-python",
   "name": "python",
   "nbconvert_exporter": "python",
   "pygments_lexer": "ipython3",
   "version": "3.12.7"
  }
 },
 "nbformat": 4,
 "nbformat_minor": 5
}
