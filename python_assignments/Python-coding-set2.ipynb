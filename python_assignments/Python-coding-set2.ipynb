{
 "cells": [
  {
   "cell_type": "code",
   "execution_count": 1,
   "id": "154260b8-2970-42b7-979b-7431824dfba7",
   "metadata": {},
   "outputs": [
    {
     "name": "stdin",
     "output_type": "stream",
     "text": [
      "Enter the input string hello\n"
     ]
    },
    {
     "name": "stdout",
     "output_type": "stream",
     "text": [
      "olleh\n"
     ]
    }
   ],
   "source": [
    "#coding 1\n",
    "\n",
    "str=input(\"Enter the input string\")\n",
    "print(str[::-1])\n"
   ]
  },
  {
   "cell_type": "code",
   "execution_count": 2,
   "id": "c6b17953-6058-4cd8-98e8-47e40d97e641",
   "metadata": {},
   "outputs": [
    {
     "name": "stdout",
     "output_type": "stream",
     "text": [
      "[0, 1, 1, 2, 3, 5, 8, 13, 21, 34]\n"
     ]
    }
   ],
   "source": [
    "#coding 2\n",
    "\n",
    "def fibonacci(n):\n",
    "    ls=[0,1];\n",
    "    for i in range(2,n):\n",
    "        ls.append(ls[i-2]+ls[i-1])\n",
    "    return ls\n",
    "print(fibonacci(10))"
   ]
  },
  {
   "cell_type": "code",
   "execution_count": 4,
   "id": "69f83f21-afbd-4f0e-9eb9-80861bdf2be3",
   "metadata": {},
   "outputs": [
    {
     "name": "stdout",
     "output_type": "stream",
     "text": [
      "False\n"
     ]
    }
   ],
   "source": [
    "#coding 3\n",
    "\n",
    "def isPalindrome(str):\n",
    "    rev=str[::-1];\n",
    "    if(str==rev):\n",
    "        return True\n",
    "    else:\n",
    "        return False\n",
    "print(isPalindrome(\"MADAMAS\"))        "
   ]
  },
  {
   "cell_type": "code",
   "execution_count": 10,
   "id": "2aa4682d-d881-46f7-9103-28d69b935628",
   "metadata": {},
   "outputs": [
    {
     "name": "stdout",
     "output_type": "stream",
     "text": [
      "['e', 'd', 'u', 'c', 'a', 't', 'i', 'o', 'n']\n",
      "['e', 'u', 'a', 'i', 'o']\n",
      "5\n"
     ]
    }
   ],
   "source": [
    "# coding 4\n",
    "\n",
    "def noOfVowels(str):\n",
    "    ls = list(str)\n",
    "    vowels = ['a','e','i','o','u']\n",
    "    filtered = list(filter(lambda i:(i in vowels),ls))\n",
    "    return len(filtered)\n",
    "    \n",
    "print(noOfVowels(\"education\"))    "
   ]
  },
  {
   "cell_type": "code",
   "execution_count": 12,
   "id": "805db194-c21d-4b4f-9011-ab67e5bb658a",
   "metadata": {},
   "outputs": [
    {
     "name": "stdout",
     "output_type": "stream",
     "text": [
      "[1, 2, 3, 4, 5]\n"
     ]
    }
   ],
   "source": [
    "# coding 5\n",
    "\n",
    "def removeDuplicates(ls):\n",
    "    newls=[]\n",
    "    for i in ls:\n",
    "        if i not in newls:\n",
    "            newls.append(i)\n",
    "    return newls\n",
    "print(removeDuplicates([1, 2, 2, 3, 4, 4, 5]))     "
   ]
  },
  {
   "cell_type": "code",
   "execution_count": null,
   "id": "7cd3299c-23e2-4ada-9ada-ab854e3e8615",
   "metadata": {},
   "outputs": [],
   "source": []
  }
 ],
 "metadata": {
  "kernelspec": {
   "display_name": "Python [conda env:base] *",
   "language": "python",
   "name": "conda-base-py"
  },
  "language_info": {
   "codemirror_mode": {
    "name": "ipython",
    "version": 3
   },
   "file_extension": ".py",
   "mimetype": "text/x-python",
   "name": "python",
   "nbconvert_exporter": "python",
   "pygments_lexer": "ipython3",
   "version": "3.12.7"
  }
 },
 "nbformat": 4,
 "nbformat_minor": 5
}
