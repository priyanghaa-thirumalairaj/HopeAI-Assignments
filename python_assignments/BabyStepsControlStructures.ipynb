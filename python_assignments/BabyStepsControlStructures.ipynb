{
 "cells": [
  {
   "cell_type": "code",
   "execution_count": 6,
   "id": "449b3e6f-09f1-402b-910c-0815eedfa5a3",
   "metadata": {},
   "outputs": [
    {
     "name": "stdout",
     "output_type": "stream",
     "text": [
      "Welcome to Assignment-1\n"
     ]
    }
   ],
   "source": [
    "print(\"Welcome to Assignment-1\")"
   ]
  },
  {
   "cell_type": "code",
   "execution_count": 5,
   "id": "0b2b3935-ceeb-4c94-9852-2d187941d8f5",
   "metadata": {},
   "outputs": [
    {
     "name": "stdin",
     "output_type": "stream",
     "text": [
      "Enter the number 1 10\n",
      "Enter the number 2 30\n"
     ]
    },
    {
     "name": "stdout",
     "output_type": "stream",
     "text": [
      "Num1= 10\n",
      "Num2= 30\n",
      "Add= 40\n"
     ]
    }
   ],
   "source": [
    "num1=int(input(\"Enter the number 1\"))\n",
    "num2=int(input(\"Enter the number 2\"))\n",
    "add = num1+num2\n",
    "print(\"Num1=\",num1)\n",
    "print(\"Num2=\",num2)\n",
    "print(\"Add=\",add)"
   ]
  },
  {
   "cell_type": "code",
   "execution_count": 4,
   "id": "bcc118aa-f0fe-46b6-b90a-259fc6a66f3d",
   "metadata": {},
   "outputs": [
    {
     "name": "stdin",
     "output_type": "stream",
     "text": [
      "Enter the BMI Index: 34\n"
     ]
    },
    {
     "name": "stdout",
     "output_type": "stream",
     "text": [
      "Obese\n"
     ]
    }
   ],
   "source": [
    "bmi=float(input(\"Enter the BMI Index:\"))\n",
    "if(bmi<18.5):\n",
    "    print(\"Under Weight\")\n",
    "elif(bmi>=18.5 and bmi <=24.9):\n",
    "    print(\"Normal Weight\")\n",
    "elif(bmi>24.9 and bmi<30):\n",
    "    print(\"Over Weight\")\n",
    "elif(bmi>=30 and bmi<35):\n",
    "    print(\"Obese\")\n",
    "else:\n",
    "    print(\"Extremely Obese\")"
   ]
  },
  {
   "cell_type": "code",
   "execution_count": null,
   "id": "7b3a83c1-6528-4e5a-808f-efce730634f8",
   "metadata": {},
   "outputs": [],
   "source": []
  },
  {
   "cell_type": "code",
   "execution_count": null,
   "id": "7f402c6e-a534-46fc-a0ba-4dc29b1f573a",
   "metadata": {},
   "outputs": [],
   "source": []
  }
 ],
 "metadata": {
  "kernelspec": {
   "display_name": "Python [conda env:base] *",
   "language": "python",
   "name": "conda-base-py"
  },
  "language_info": {
   "codemirror_mode": {
    "name": "ipython",
    "version": 3
   },
   "file_extension": ".py",
   "mimetype": "text/x-python",
   "name": "python",
   "nbconvert_exporter": "python",
   "pygments_lexer": "ipython3",
   "version": "3.12.7"
  }
 },
 "nbformat": 4,
 "nbformat_minor": 5
}
