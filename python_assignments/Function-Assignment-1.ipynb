{
 "cells": [
  {
   "cell_type": "code",
   "execution_count": 6,
   "id": "c9137566-82cc-44c3-988c-12dd38241a3f",
   "metadata": {},
   "outputs": [
    {
     "name": "stdout",
     "output_type": "stream",
     "text": [
      "Subfields in AI are:\n",
      "Machine Learning\n",
      "Neural Networks\n",
      "Vision\n",
      "Robotics\n",
      "Speech Processing\n",
      "Natural Language Processing\n"
     ]
    }
   ],
   "source": [
    "listinput = [\"Machine Learning\",\"Neural Networks\",\"Vision\",\"Robotics\",\"Speech Processing\",\"Natural Language Processing\"]\n",
    "def printingList():\n",
    "    for i in listinput:\n",
    "        print(i)\n",
    "\n",
    "print(\"Subfields in AI are:\")\n",
    "printingList()"
   ]
  },
  {
   "cell_type": "code",
   "execution_count": 1,
   "id": "507fea85-b408-433e-9dc1-292771b0aaf4",
   "metadata": {},
   "outputs": [
    {
     "name": "stdin",
     "output_type": "stream",
     "text": [
      "Enter a number: 23\n"
     ]
    },
    {
     "name": "stdout",
     "output_type": "stream",
     "text": [
      "23 is Odd Number\n"
     ]
    }
   ],
   "source": [
    "def checkWhetherOddOrEven():\n",
    "    num=int(input(\"Enter a number:\"))\n",
    "    if(num%2==0):\n",
    "        print(num,\"is Even Number\")\n",
    "    else:\n",
    "        print(num,\"is Odd Number\")\n",
    "checkWhetherOddOrEven()        "
   ]
  },
  {
   "cell_type": "code",
   "execution_count": 3,
   "id": "7a61f6b7-7a80-4370-aa32-74d9fed65b9f",
   "metadata": {},
   "outputs": [
    {
     "name": "stdin",
     "output_type": "stream",
     "text": [
      "Enter your gender Female\n",
      "Enter your age 19\n"
     ]
    },
    {
     "name": "stdout",
     "output_type": "stream",
     "text": [
      "Your Gender: Female\n",
      "Your Age: 19\n",
      "ELIGIBLE\n"
     ]
    }
   ],
   "source": [
    "def eligibleForMarriage(gender,age):\n",
    "    if(gender == 'Male' and age >= 21):\n",
    "        return True\n",
    "    elif(gender == 'Female' and age >=18):\n",
    "        return True\n",
    "    else:\n",
    "        return False\n",
    "gender = input(\"Enter your gender\")\n",
    "age = int(input(\"Enter your age\"))\n",
    "\n",
    "print(\"Your Gender:\",gender)\n",
    "print(\"Your Age:\",age)\n",
    "if(eligibleForMarriage(gender,age)):\n",
    "    print(\"ELIGIBLE\")\n",
    "else:\n",
    "    print(\"NOT ELIGIBLE\")\n",
    "\n",
    "    \n"
   ]
  },
  {
   "cell_type": "code",
   "execution_count": 4,
   "id": "138c6eca-de3e-489d-93e3-04be46d41cbc",
   "metadata": {},
   "outputs": [
    {
     "name": "stdin",
     "output_type": "stream",
     "text": [
      "Enter the subject marks 90\n",
      "Enter the subject marks 89\n",
      "Enter the subject marks 97\n",
      "Enter the subject marks 96\n",
      "Enter the subject marks 95\n"
     ]
    },
    {
     "name": "stdout",
     "output_type": "stream",
     "text": [
      "Subject1=90\n",
      "Subject2=89\n",
      "Subject3=97\n",
      "Subject4=96\n",
      "Subject5=95\n",
      "Total= 467\n",
      "Percentage 93.4\n"
     ]
    }
   ],
   "source": [
    "def printSubjectMarks(subjectMarks):\n",
    "    for index,subj in enumerate(subjectMarks,start=1):\n",
    "        print(f\"Subject{index}={subj}\");\n",
    "\n",
    "def findTotalObtainedMarks(subjectMarks):\n",
    "    total=0;\n",
    "    for i in subjectMarks:\n",
    "        total += i;\n",
    "    return total;    \n",
    "def findTenthPercentage(total):      \n",
    "    percen = (total/500)*100;\n",
    "    return percen;\n",
    "\n",
    "subjectMarks =[];\n",
    "for i in range(0,5):\n",
    "    sub = int(input(\"Enter the subject marks\"));\n",
    "    subjectMarks.append(sub);\n",
    "\n",
    "printSubjectMarks(subjectMarks);\n",
    "totalObtained=findTotalObtainedMarks(subjectMarks);\n",
    "print(\"Total=\",totalObtained)\n",
    "print(\"Percentage=\",findTenthPercentage(totalObtained))\n",
    "\n",
    "\n",
    "    \n",
    "    "
   ]
  },
  {
   "cell_type": "code",
   "execution_count": 5,
   "id": "a700a493-f26d-472f-815e-d32111cdeb75",
   "metadata": {},
   "outputs": [
    {
     "name": "stdin",
     "output_type": "stream",
     "text": [
      "Enter the height of a triangle 32\n",
      "Enter the base of a triangle 34\n",
      "Enter the height1 of a triangle 2\n",
      "Enter the height2 of a triangle 4\n",
      "Enter the breadth of a triangle 4\n"
     ]
    },
    {
     "name": "stdout",
     "output_type": "stream",
     "text": [
      "Height: 32\n",
      "Breadth 34\n",
      "Area Formula:(Height*Breadth)/2\n",
      "Area of Triangle 544.0\n",
      "Height1: 2\n",
      "Height2: 4\n",
      "Breadth: 4\n",
      "Perimeter Formula:Height1+Height2+Breadth\n",
      "Perimeter of a triangle: 10\n"
     ]
    }
   ],
   "source": [
    "def areaOfATriangle(base,height):\n",
    "    return((base*height)/2)\n",
    "\n",
    "def perimeterOfATriangle(height1,height2,breadth):\n",
    "    return(height1+height2+breadth)\n",
    "\n",
    "height=int(input(\"Enter the height of a triangle\"))\n",
    "base=int(input(\"Enter the base of a triangle\"))\n",
    "height1= int(input(\"Enter the height1 of a triangle\"))\n",
    "height2= int(input(\"Enter the height2 of a triangle\"))\n",
    "breadth= int(input(\"Enter the breadth of a triangle\"))\n",
    "\n",
    "print(\"Height:\",height)\n",
    "print(\"Breadth\",base)\n",
    "print(\"Area Formula:(Height*Breadth)/2\")\n",
    "print(\"Area of Triangle\",areaOfATriangle(base,height))\n",
    "print(\"Height1:\",height1)\n",
    "print(\"Height2:\",height2)\n",
    "print(\"Breadth:\",breadth)\n",
    "print(\"Perimeter Formula:Height1+Height2+Breadth\")\n",
    "print(\"Perimeter of a triangle:\",perimeterOfATriangle(height1,height2,breadth))\n",
    "\n",
    "    \n",
    "    "
   ]
  },
  {
   "cell_type": "code",
   "execution_count": null,
   "id": "0a72dfcb-99b2-4462-a0ce-f7de4ff79836",
   "metadata": {},
   "outputs": [],
   "source": []
  }
 ],
 "metadata": {
  "kernelspec": {
   "display_name": "Python [conda env:base] *",
   "language": "python",
   "name": "conda-base-py"
  },
  "language_info": {
   "codemirror_mode": {
    "name": "ipython",
    "version": 3
   },
   "file_extension": ".py",
   "mimetype": "text/x-python",
   "name": "python",
   "nbconvert_exporter": "python",
   "pygments_lexer": "ipython3",
   "version": "3.12.7"
  }
 },
 "nbformat": 4,
 "nbformat_minor": 5
}
