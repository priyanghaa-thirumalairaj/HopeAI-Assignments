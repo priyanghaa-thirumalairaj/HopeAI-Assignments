{
 "cells": [
  {
   "cell_type": "code",
   "execution_count": 2,
   "id": "7c045ab3-6499-4cf9-b231-40c76fbe4d7f",
   "metadata": {},
   "outputs": [
    {
     "name": "stdin",
     "output_type": "stream",
     "text": [
      "Enter your age 23\n"
     ]
    },
    {
     "name": "stdout",
     "output_type": "stream",
     "text": [
      "You are eligible to vote\n"
     ]
    }
   ],
   "source": [
    "#scenario1\n",
    "\n",
    "age = int(input(\"Enter your age\"))\n",
    "if(age>=18):\n",
    "    print(\"You are eligible to vote\")\n",
    "else:\n",
    "    print(\"You are not eligible to vote\")\n",
    "    "
   ]
  },
  {
   "cell_type": "code",
   "execution_count": 4,
   "id": "46b0e657-c951-428f-a233-2c57f7916283",
   "metadata": {},
   "outputs": [
    {
     "name": "stdout",
     "output_type": "stream",
     "text": [
      "Largest in list is  100802\n"
     ]
    }
   ],
   "source": [
    "#scenario2\n",
    "\n",
    "lst = [23,65,78,9000,100802]\n",
    "def largestNumber(lst):\n",
    "    if lst:\n",
    "        return max(lst)\n",
    "        \n",
    "    else:\n",
    "        return 0;\n",
    "print(\"Largest in list is \",largestNumber(lst))        "
   ]
  },
  {
   "cell_type": "code",
   "execution_count": 7,
   "id": "672a6747-5810-41e5-841a-7e606b9c9ef9",
   "metadata": {},
   "outputs": [
    {
     "name": "stdin",
     "output_type": "stream",
     "text": [
      "Enter your salary 67000\n"
     ]
    },
    {
     "data": {
      "text/plain": [
       "6700.0"
      ]
     },
     "execution_count": 7,
     "metadata": {},
     "output_type": "execute_result"
    }
   ],
   "source": [
    "#scenario3\n",
    "\n",
    "salary = int(input(\"Enter your salary\"))\n",
    "def bonusAmount(salary):\n",
    "    if(salary >= 50000):\n",
    "        return ((10/100)*salary)\n",
    "    else:\n",
    "        return 0\n",
    "\n",
    "\n",
    "bonusAmount(salary)       "
   ]
  },
  {
   "cell_type": "code",
   "execution_count": 8,
   "id": "d60fc60b-7b6c-4987-84cb-3fe52d62f8f0",
   "metadata": {},
   "outputs": [
    {
     "name": "stdout",
     "output_type": "stream",
     "text": [
      "Given number is Even\n"
     ]
    }
   ],
   "source": [
    "#scenario4\n",
    "\n",
    "def evenOrOdd(num):\n",
    "    if(num%2==0):\n",
    "        print(\"Given number is Even\")\n",
    "    else:\n",
    "        print(\"Given number is Odd\")\n",
    "\n",
    "evenOrOdd(34)\n",
    "        "
   ]
  },
  {
   "cell_type": "code",
   "execution_count": 9,
   "id": "aaba0d12-fe3d-4cdd-bfb0-c3a90eef9bf2",
   "metadata": {},
   "outputs": [
    {
     "name": "stdin",
     "output_type": "stream",
     "text": [
      "Enter your string word or sentence Hello World\n"
     ]
    },
    {
     "data": {
      "text/plain": [
       "'dlroW olleH'"
      ]
     },
     "execution_count": 9,
     "metadata": {},
     "output_type": "execute_result"
    }
   ],
   "source": [
    "#scenario5\n",
    "inputString = input(\"Enter your string word or sentence\")\n",
    "def reverseString(inputString):\n",
    "    return inputString[::-1]\n",
    "reverseString(inputString)    "
   ]
  },
  {
   "cell_type": "code",
   "execution_count": 12,
   "id": "f790ee39-6633-42ac-b3b4-6c165d0ea101",
   "metadata": {},
   "outputs": [
    {
     "name": "stdin",
     "output_type": "stream",
     "text": [
      "Enter subjectmarks by space 23 56 78 89 90\n"
     ]
    },
    {
     "name": "stdout",
     "output_type": "stream",
     "text": [
      "Failed\n"
     ]
    }
   ],
   "source": [
    "#scenario6\n",
    "subjectMarks=input(\"Enter subjectmarks by space\")\n",
    "marks=list(map(int,subjectMarks.split()))\n",
    "result = all(map(lambda x:x>40,marks))\n",
    "if result:\n",
    "    print(\"Passed\")\n",
    "else:\n",
    "    print(\"Failed\")"
   ]
  },
  {
   "cell_type": "code",
   "execution_count": 14,
   "id": "d7681e52-959c-43a1-9c20-a1b06b75de57",
   "metadata": {},
   "outputs": [
    {
     "name": "stdin",
     "output_type": "stream",
     "text": [
      "Enter the bill amount 99\n"
     ]
    },
    {
     "data": {
      "text/plain": [
       "99"
      ]
     },
     "execution_count": 14,
     "metadata": {},
     "output_type": "execute_result"
    }
   ],
   "source": [
    "#scenario7\n",
    "billAmount = int(input(\"Enter the bill amount\"))\n",
    "def finalAmount(billAmount):\n",
    "    if(billAmount >= 100):\n",
    "        return billAmount-((20/100)*billAmount)\n",
    "    else:\n",
    "        return billAmount\n",
    "finalAmount(billAmount)        \n",
    "        "
   ]
  },
  {
   "cell_type": "code",
   "execution_count": 20,
   "id": "256fd973-dd49-4636-adaf-6027813db571",
   "metadata": {},
   "outputs": [
    {
     "name": "stdin",
     "output_type": "stream",
     "text": [
      "Enter year value 2000\n"
     ]
    },
    {
     "name": "stdout",
     "output_type": "stream",
     "text": [
      "Leap Year\n"
     ]
    }
   ],
   "source": [
    "#scenario9\n",
    "\n",
    "def checkLeapYear(year):\n",
    "    if((year%4==0 and year%100!=0) or (year%400==0)):\n",
    "        print(\"Leap Year\")        \n",
    "    else:\n",
    "        print(\"Not Leap Year\")\n",
    "year=int(input(\"Enter year value\"))\n",
    "checkLeapYear(year)"
   ]
  },
  {
   "cell_type": "code",
   "execution_count": 22,
   "id": "ebbb68b0-a58d-4d46-83e7-8c045a716cdd",
   "metadata": {},
   "outputs": [
    {
     "name": "stdin",
     "output_type": "stream",
     "text": [
      "Enter list numbers with space \n"
     ]
    },
    {
     "name": "stdout",
     "output_type": "stream",
     "text": [
      "Even list []\n"
     ]
    }
   ],
   "source": [
    "#scenario10\n",
    "nums = input(\"Enter list numbers with space\")\n",
    "numLst = list(map(int,nums.split()))\n",
    "def extractEvenNumbers(lst):\n",
    "    return list(filter(lambda x:x%2==0,lst))\n",
    "\n",
    "print(\"Even list\",extractEvenNumbers(numLst))"
   ]
  },
  {
   "cell_type": "code",
   "execution_count": 28,
   "id": "c67fb413-ea1d-4b69-b29d-047ce8725c35",
   "metadata": {},
   "outputs": [
    {
     "name": "stdin",
     "output_type": "stream",
     "text": [
      "Enter balance amount 100\n",
      "Enter withdrawl money 40\n"
     ]
    },
    {
     "name": "stdout",
     "output_type": "stream",
     "text": [
      "Enough Balance\n",
      "currentBalance is  60\n"
     ]
    }
   ],
   "source": [
    "# scenario8\n",
    "\n",
    "bankbalance = int(input(\"Enter balance amount\"))\n",
    "withdrawl = int(input(\"Enter withdrawl money\"))\n",
    "\n",
    "def withdrawlRequest(bankBalance,withdrawl):\n",
    "    if(withdrawl<=bankBalance):\n",
    "        bankBalance-=withdrawl\n",
    "        return bankBalance;\n",
    "    else:\n",
    "        return bankBalance\n",
    "print(\"Not Enough Balance\" if withdrawl>bankbalance else \"Enough Balance\")   \n",
    "print(\"currentBalance is \",withdrawlRequest(bankbalance,withdrawl))"
   ]
  },
  {
   "cell_type": "code",
   "execution_count": null,
   "id": "ebbfeafc-2b01-4471-9efb-afe486494fd1",
   "metadata": {},
   "outputs": [],
   "source": []
  }
 ],
 "metadata": {
  "kernelspec": {
   "display_name": "Python [conda env:base] *",
   "language": "python",
   "name": "conda-base-py"
  },
  "language_info": {
   "codemirror_mode": {
    "name": "ipython",
    "version": 3
   },
   "file_extension": ".py",
   "mimetype": "text/x-python",
   "name": "python",
   "nbconvert_exporter": "python",
   "pygments_lexer": "ipython3",
   "version": "3.12.7"
  }
 },
 "nbformat": 4,
 "nbformat_minor": 5
}
